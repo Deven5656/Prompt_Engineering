{
 "cells": [
  {
   "cell_type": "markdown",
   "metadata": {},
   "source": [
    "\"\"\"<br>\n",
    "    @Author: Deven Gupta<br>\n",
    "    @Date: 13-10-2024<br>\n",
    "    @Last Modified by: Deven Gupta<br>\n",
    "    @Last Modified time: 13-10-2024<br>\n",
    "    @Title: Task2- Using product Reviews for (Inferring and Expanding) using Google Gemini.<br>\n",
    "<br>\n",
    "\"\"\"<br>"
   ]
  },
  {
   "cell_type": "markdown",
   "metadata": {},
   "source": [
    "## Inferring and Expanding\n",
    "\n",
    "Installing library for gemini -- `! pip install google-generativeai ` "
   ]
  },
  {
   "cell_type": "code",
   "execution_count": 15,
   "metadata": {},
   "outputs": [],
   "source": [
    "import os\n",
    "import google.generativeai as genai\n",
    "import csv\n",
    "import time"
   ]
  },
  {
   "cell_type": "code",
   "execution_count": 16,
   "metadata": {},
   "outputs": [],
   "source": [
    "# Configure the API key\n",
    "genai.configure(api_key=os.environ[\"GEMINI_API_KEY\"])\n",
    "\n",
    "# Create the model\n",
    "generation_config = {\n",
    "    \"temperature\": 1,\n",
    "    \"top_p\": 0.95,\n",
    "    \"top_k\": 64,\n",
    "    \"max_output_tokens\": 8192,\n",
    "    \"response_mime_type\": \"text/plain\",\n",
    "}\n",
    "\n",
    "model = genai.GenerativeModel(\n",
    "    model_name=\"gemini-1.5-flash\",\n",
    "    generation_config=generation_config,\n",
    ")"
   ]
  },
  {
   "cell_type": "code",
   "execution_count": 19,
   "metadata": {},
   "outputs": [],
   "source": [
    "# Function to process reviews\n",
    "def process_reviews(input_file, output_file):\n",
    "    \"\"\"\n",
    "    Description:\n",
    "        Processes customer reviews from an input text file, infers the sentiment, generates replies,\n",
    "        and predicts categories for the reviews, then writes the results to a CSV file.\n",
    "    Parameters:\n",
    "        input_file (str): Path to the input text file containing customer reviews.\n",
    "        output_file (str): Path to the output CSV file where results will be stored.\n",
    "    Returns: None\n",
    "    \"\"\"\n",
    "    with open(input_file, 'r', encoding='utf-8') as f:\n",
    "        lines = f.read().strip().split('\\n')\n",
    "\n",
    "    reviews = []\n",
    "    for line in lines:\n",
    "        if line.startswith('Review:'):\n",
    "            review_text = line.replace('Review: ', '').strip().strip('\"')\n",
    "            product = lines[lines.index(line) - 1].replace('Product: ', '').strip()\n",
    "            reviews.append((product, review_text))\n",
    "\n",
    "    with open(output_file, 'w', newline='', encoding='utf-8') as csvfile:\n",
    "        fieldnames = ['product','prediction', 'review', 'sentiment', 'generated_reply']\n",
    "        writer = csv.DictWriter(csvfile, fieldnames=fieldnames)\n",
    "        writer.writeheader()\n",
    "\n",
    "        for product, review in reviews:\n",
    "            # Infer sentiment\n",
    "            sentiment_session = model.start_chat(history=[])\n",
    "            sentiment_response = sentiment_session.send_message(f\"Determine the sentiment of this review only in one word (positive, negative, and neutral): {review}\")\n",
    "            sentiment = sentiment_response.text.strip()\n",
    "\n",
    "            # Generate a reply\n",
    "            reply_session = model.start_chat(history=[])\n",
    "            reply_response = reply_session.send_message(f\"Generate a reply in 30 words to this review (if positive thank you, and otherwise apologize for the inconvenience): {review}\")\n",
    "            generated_reply = reply_response.text.strip()\n",
    "\n",
    "            # Predict the category (here, the category is the product itself)\n",
    "            prediction = product\n",
    "\n",
    "            # Write the results to CSV\n",
    "            writer.writerow({\n",
    "                'product': product,\n",
    "                'prediction': prediction,\n",
    "                'review': review,\n",
    "                'sentiment': sentiment,\n",
    "                'generated_reply': generated_reply  \n",
    "            })\n",
    "            time.sleep(8)\n"
   ]
  },
  {
   "cell_type": "code",
   "execution_count": 20,
   "metadata": {},
   "outputs": [],
   "source": [
    "def main():\n",
    "    process_reviews('reviews.txt', 'reviews_output.csv')\n",
    "\n",
    "if __name__ == \"__main__\":\n",
    "    main()"
   ]
  }
 ],
 "metadata": {
  "kernelspec": {
   "display_name": "Python 3",
   "language": "python",
   "name": "python3"
  },
  "language_info": {
   "codemirror_mode": {
    "name": "ipython",
    "version": 3
   },
   "file_extension": ".py",
   "mimetype": "text/x-python",
   "name": "python",
   "nbconvert_exporter": "python",
   "pygments_lexer": "ipython3",
   "version": "3.12.4"
  }
 },
 "nbformat": 4,
 "nbformat_minor": 2
}
