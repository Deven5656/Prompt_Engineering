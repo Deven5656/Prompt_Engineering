{
 "cells": [
  {
   "cell_type": "markdown",
   "metadata": {},
   "source": [
    "\"\"\"<br>\n",
    "    @Author: Deven Gupta<br>\n",
    "    @Date: 12-10-2024<br>\n",
    "    @Last Modified by: Deven Gupta<br>\n",
    "    @Last Modified time: 12-10-2024<br>\n",
    "    @Title: Task1- Using Email for (Summarization and Transformation) using Google Gemini.<br>\n",
    "<br>\n",
    "\"\"\"<br>"
   ]
  },
  {
   "cell_type": "markdown",
   "metadata": {},
   "source": [
    "## Summarization and Translation\n",
    "\n",
    "Installing library for gemini -- `! pip install google-generativeai ` "
   ]
  },
  {
   "cell_type": "code",
   "execution_count": 4,
   "metadata": {},
   "outputs": [],
   "source": [
    "import os\n",
    "import google.generativeai as genai\n",
    "import csv\n",
    "\n",
    "# Configure the API key\n",
    "genai.configure(api_key=os.environ[\"GEMINI_API_KEY\"])\n",
    "\n",
    "# Create the model\n",
    "generation_config = {\n",
    "    \"temperature\": 1,\n",
    "    \"top_p\": 0.95,\n",
    "    \"top_k\": 64,\n",
    "    \"max_output_tokens\": 8192,\n",
    "    \"response_mime_type\": \"text/plain\",\n",
    "}\n",
    "\n",
    "model = genai.GenerativeModel(\n",
    "    model_name=\"gemini-1.5-flash\",\n",
    "    generation_config=generation_config,\n",
    ")"
   ]
  },
  {
   "cell_type": "code",
   "execution_count": 5,
   "metadata": {},
   "outputs": [],
   "source": [
    "def process_emails(input_file, output_file):\n",
    "    \"\"\"\n",
    "    Description:\n",
    "        Processes emails from an input text file, summarizes the body, translates the summary to French, \n",
    "        and writes the results to a CSV file.\n",
    "\n",
    "    Parameters:\n",
    "        input_file (str): Path to the input text file containing emails in a specific format.\n",
    "        output_file (str): Path to the output CSV file where results will be stored.\n",
    "\n",
    "    Returns: None\n",
    "    \"\"\"\n",
    "    with open(input_file, 'r', encoding='utf-8') as f:\n",
    "        emails = f.read().strip().split('\\n\\n')  # Split by double newlines\n",
    "\n",
    "    with open(output_file, 'w', newline='', encoding='utf-8') as csvfile:\n",
    "        fieldnames = ['sender', 'receiver', 'summarized_body', 'translated_body']\n",
    "        writer = csv.DictWriter(csvfile, fieldnames=fieldnames)\n",
    "        writer.writeheader()\n",
    "\n",
    "        for email in emails:\n",
    "            lines = email.strip().split('\\n')\n",
    "\n",
    "            # Check if we have at least the expected lines\n",
    "            if len(lines) < 4:\n",
    "                print(f\"Skipping malformed email:\\n{email}\\n\")\n",
    "                continue\n",
    "\n",
    "            subject = lines[0].replace('Subject: ', '').strip()\n",
    "            sender = lines[1].replace('From: ', '').strip()\n",
    "            receiver = lines[2].replace('To: ', '').strip()\n",
    "            body = '\\n'.join(lines[3:]).strip()\n",
    "\n",
    "\n",
    "            # Summarize the email body\n",
    "            chat_session = model.start_chat(history=[])\n",
    "            summary_response = chat_session.send_message(f\"Summarize this email: {body}\")\n",
    "            summarized_body = summary_response.text.strip()\n",
    "\n",
    "            # Translate the summarized body to French\n",
    "            translation_session = model.start_chat(history=[])\n",
    "            translate_response = translation_session.send_message(f\"Translate this to Marathi: {summarized_body}\")\n",
    "            translated_body = translate_response.text.strip()\n",
    "\n",
    "            # Write the results to CSV\n",
    "            writer.writerow({\n",
    "                'sender': sender,\n",
    "                'receiver': receiver,\n",
    "                'summarized_body': summarized_body,\n",
    "                'translated_body': translated_body\n",
    "            })"
   ]
  },
  {
   "cell_type": "code",
   "execution_count": 6,
   "metadata": {},
   "outputs": [],
   "source": [
    "def main():\n",
    "    process_emails('emails.txt', 'emails_output.csv')\n",
    "\n",
    "if __name__ == \"__main__\":\n",
    "    main()"
   ]
  }
 ],
 "metadata": {
  "kernelspec": {
   "display_name": "Python 3",
   "language": "python",
   "name": "python3"
  },
  "language_info": {
   "codemirror_mode": {
    "name": "ipython",
    "version": 3
   },
   "file_extension": ".py",
   "mimetype": "text/x-python",
   "name": "python",
   "nbconvert_exporter": "python",
   "pygments_lexer": "ipython3",
   "version": "3.12.4"
  }
 },
 "nbformat": 4,
 "nbformat_minor": 2
}
